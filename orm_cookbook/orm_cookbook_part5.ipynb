{
 "cells": [
  {
   "cell_type": "code",
   "execution_count": 1,
   "id": "7ae99aba",
   "metadata": {},
   "outputs": [],
   "source": [
    "import os\n",
    "import django\n",
    "os.environ.setdefault('DJANGO_SETTINGS_MODULE', 'rest.settings')\n",
    "os.environ[\"DJANGO_ALLOW_ASYNC_UNSAFE\"] = \"true\"\n",
    "django.setup()\n",
    "from django.contrib.auth import get_user_model\n",
    "from events.models import *\n",
    "from entities.models import *\n",
    "\n",
    "User = get_user_model()"
   ]
  },
  {
   "cell_type": "markdown",
   "id": "8abfde6f",
   "metadata": {},
   "source": [
    "## 15. aggregate - Avg, Max, Min, Sum, Count\n",
    "- 일반적인 집계 기능을 수행하는 `Max`, `Min`, `Avg`, `Sum`"
   ]
  },
  {
   "cell_type": "code",
   "execution_count": 2,
   "id": "7be58654",
   "metadata": {},
   "outputs": [],
   "source": [
    "from django.db.models import Avg, Max, Min, Sum, Count"
   ]
  },
  {
   "cell_type": "code",
   "execution_count": 3,
   "id": "9e25b305",
   "metadata": {},
   "outputs": [
    {
     "data": {
      "text/plain": [
       "{'id__avg': 7.5}"
      ]
     },
     "execution_count": 3,
     "metadata": {},
     "output_type": "execute_result"
    }
   ],
   "source": [
    "User.objects.all().aggregate(Avg('id'))"
   ]
  },
  {
   "cell_type": "code",
   "execution_count": 4,
   "id": "43c5785a",
   "metadata": {},
   "outputs": [
    {
     "data": {
      "text/plain": [
       "{'id__max': 14}"
      ]
     },
     "execution_count": 4,
     "metadata": {},
     "output_type": "execute_result"
    }
   ],
   "source": [
    "User.objects.all().aggregate(Max('id'))"
   ]
  },
  {
   "cell_type": "code",
   "execution_count": 5,
   "id": "693ab3ad",
   "metadata": {},
   "outputs": [
    {
     "data": {
      "text/plain": [
       "{'id__min': 1}"
      ]
     },
     "execution_count": 5,
     "metadata": {},
     "output_type": "execute_result"
    }
   ],
   "source": [
    "User.objects.all().aggregate(Min('id'))"
   ]
  },
  {
   "cell_type": "code",
   "execution_count": 6,
   "id": "21570029",
   "metadata": {},
   "outputs": [
    {
     "data": {
      "text/plain": [
       "{'id__sum': 105}"
      ]
     },
     "execution_count": 6,
     "metadata": {},
     "output_type": "execute_result"
    }
   ],
   "source": [
    "User.objects.all().aggregate(Sum('id'))"
   ]
  },
  {
   "cell_type": "markdown",
   "id": "87b155a5",
   "metadata": {},
   "source": [
    "## 16. 랜덤 데이터 뽑기\n",
    "- 정렬 기준을 `무작위`로 설정하기\n",
    "    - 결국 정렬을 해야하므로 다른 방법에 비해 비용이 들 수 있다."
   ]
  },
  {
   "cell_type": "code",
   "execution_count": 7,
   "id": "c20389e7",
   "metadata": {},
   "outputs": [],
   "source": [
    "def get_random():\n",
    "    return User.objects.order_by('?').first()"
   ]
  },
  {
   "cell_type": "markdown",
   "id": "c824f970",
   "metadata": {},
   "source": [
    "- 필드값이 연속적인 경우 최소값과 최댓값 사이의 난수를 생성하기\n",
    "    - 중간에 삭제된 항목이 많은 경우 여러번 루프를 돌며 체크해야할 수 도 있다."
   ]
  },
  {
   "cell_type": "code",
   "execution_count": 8,
   "id": "333bd3dc",
   "metadata": {},
   "outputs": [],
   "source": [
    "def get_random2():\n",
    "    max_id = Category.objects.all().aggregate(max_id=Max(\"id\"))['max_id']\n",
    "    pk = random.randint(1, max_id)\n",
    "    return Category.objects.get(pk=pk)"
   ]
  },
  {
   "cell_type": "code",
   "execution_count": 9,
   "id": "af804874",
   "metadata": {},
   "outputs": [],
   "source": [
    "def get_random3():\n",
    "    max_id = Category.objects.all().aggregate(max_id=Max(\"id\"))['max_id']\n",
    "    while True:\n",
    "        pk = random.randint(1, max_id)\n",
    "        category = Category.objects.filter(pk=pk).first()\n",
    "        if category:\n",
    "            return category"
   ]
  },
  {
   "cell_type": "markdown",
   "id": "cc1f9675",
   "metadata": {},
   "source": [
    "## 17. django가 지원하지 않는 DB의 함수\n",
    "- django에서 지원하지는 않지만 DB의 함수를 꼭 사용해야하는 경우는 `django.db.models.Func`을 이용하자"
   ]
  }
 ],
 "metadata": {
  "kernelspec": {
   "display_name": "Django Shell-Plus",
   "language": "python",
   "name": "django_extensions"
  },
  "language_info": {
   "codemirror_mode": {
    "name": "ipython",
    "version": 3
   },
   "file_extension": ".py",
   "mimetype": "text/x-python",
   "name": "python",
   "nbconvert_exporter": "python",
   "pygments_lexer": "ipython3",
   "version": "3.8.13"
  }
 },
 "nbformat": 4,
 "nbformat_minor": 5
}
