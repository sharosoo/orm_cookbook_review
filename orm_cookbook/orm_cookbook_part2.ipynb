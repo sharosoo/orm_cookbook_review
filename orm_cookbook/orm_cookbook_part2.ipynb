{
 "cells": [
  {
   "cell_type": "markdown",
   "id": "69bca268",
   "metadata": {},
   "source": [
    "앞으로 실행할 명령들은 jupyter에서 async error가 발생한다.\n",
    "https://stackoverflow.com/questions/61926359/django-synchronousonlyoperation-you-cannot-call-this-from-an-async-context-u 을 참고해서 아래와 같이 설정하자."
   ]
  },
  {
   "cell_type": "code",
   "execution_count": 1,
   "id": "fed892b3",
   "metadata": {},
   "outputs": [],
   "source": [
    "import os\n",
    "import django\n",
    "os.environ.setdefault('DJANGO_SETTINGS_MODULE', 'rest.settings')\n",
    "os.environ[\"DJANGO_ALLOW_ASYNC_UNSAFE\"] = \"true\"\n",
    "django.setup()\n",
    "from django.contrib.auth import get_user_model\n",
    "from django.db.models import Q\n",
    "from events.models import *\n",
    "from entities.models import *\n",
    "User = get_user_model()"
   ]
  },
  {
   "cell_type": "markdown",
   "id": "ecbeafbc",
   "metadata": {},
   "source": [
    "## 5. Union 연산\n",
    "- Union 연산을 이용해 쿼리셋을 합할 수 있다.\n",
    "- Union all은 중복을 고려하지 않고 쿼리셋을 합한다."
   ]
  },
  {
   "cell_type": "code",
   "execution_count": 2,
   "id": "aa4f181c",
   "metadata": {},
   "outputs": [
    {
     "name": "stdout",
     "output_type": "stream",
     "text": [
      "<QuerySet [<User: sohan>, <User: Raghu>, <User: rishab>, <User: yash>, <User: John>, <User: Ricky>, <User: sharukh>]>\n"
     ]
    }
   ],
   "source": [
    "q1 = User.objects.filter(id__gte=5)\n",
    "print(q1)"
   ]
  },
  {
   "cell_type": "code",
   "execution_count": 3,
   "id": "29338498",
   "metadata": {},
   "outputs": [
    {
     "name": "stdout",
     "output_type": "stream",
     "text": [
      "<QuerySet [<User: admin>, <User: Ritesh>, <User: Billy>, <User: Radha>, <User: sohan>, <User: Raghu>, <User: rishab>, <User: yash>, <User: John>]>\n"
     ]
    }
   ],
   "source": [
    "q2 = User.objects.filter(id__lte=9)\n",
    "print(q2)"
   ]
  },
  {
   "cell_type": "code",
   "execution_count": 4,
   "id": "e8ee7ba2",
   "metadata": {},
   "outputs": [
    {
     "name": "stdout",
     "output_type": "stream",
     "text": [
      "<QuerySet [<User: admin>, <User: Ritesh>, <User: Billy>, <User: Radha>, <User: sohan>, <User: Raghu>, <User: rishab>, <User: yash>, <User: John>, <User: Ricky>, <User: sharukh>]>\n"
     ]
    }
   ],
   "source": [
    "print(q1.union(q2))"
   ]
  },
  {
   "cell_type": "code",
   "execution_count": 5,
   "id": "0cb14fda",
   "metadata": {},
   "outputs": [
    {
     "name": "stdout",
     "output_type": "stream",
     "text": [
      "<QuerySet [<User: admin>, <User: Ritesh>, <User: Billy>, <User: Radha>, <User: sohan>, <User: Raghu>, <User: rishab>, <User: yash>, <User: John>, <User: Ricky>, <User: sharukh>]>\n"
     ]
    }
   ],
   "source": [
    "print(q2.union(q1))"
   ]
  },
  {
   "cell_type": "code",
   "execution_count": 6,
   "id": "6b57ecc1",
   "metadata": {},
   "outputs": [
    {
     "name": "stdout",
     "output_type": "stream",
     "text": [
      "<QuerySet []>\n"
     ]
    }
   ],
   "source": [
    "q3 = EventVillain.objects.all()\n",
    "print(q3)"
   ]
  },
  {
   "cell_type": "markdown",
   "id": "458f6daf",
   "metadata": {},
   "source": [
    "- 필드와 데이터 유형이 다른 User와 EventVillain에 Union을 수행하면 에러가 발생한다"
   ]
  },
  {
   "cell_type": "code",
   "execution_count": 7,
   "id": "62ff1da7",
   "metadata": {},
   "outputs": [],
   "source": [
    "# 에러 발생\n",
    "try:\n",
    "    q1.union(q3)\n",
    "except:\n",
    "    print('에러 발생')"
   ]
  },
  {
   "cell_type": "markdown",
   "id": "3f4a043a",
   "metadata": {},
   "source": [
    "- 다른 모델이라도 공통적으로 가지고 있는 필드를 쿼리해온다면 Union 연산을 수행할 수 있다.\n",
    "- Hero모델과 Villain모델은 공통적으로 name과 gender를 가지고 있다."
   ]
  },
  {
   "cell_type": "code",
   "execution_count": 8,
   "id": "40486391",
   "metadata": {},
   "outputs": [
    {
     "data": {
      "text/plain": [
       "<QuerySet []>"
      ]
     },
     "execution_count": 8,
     "metadata": {},
     "output_type": "execute_result"
    }
   ],
   "source": [
    "Hero.objects.all().values_list(\n",
    "    \"name\", \"gender\"\n",
    ").union(\n",
    "Villain.objects.all().values_list(\n",
    "    \"name\", \"gender\"\n",
    "))"
   ]
  },
  {
   "cell_type": "markdown",
   "id": "c59d1e1f",
   "metadata": {},
   "source": [
    "## 6. 필요한 필드만 조회하는 방법\n",
    "- 쿼리셋의 `values`메서드와 `values_list` 메서드를 이용한다.\n",
    "- `only` 메서드를 이용한다."
   ]
  },
  {
   "cell_type": "code",
   "execution_count": 9,
   "id": "2d485f0e",
   "metadata": {},
   "outputs": [
    {
     "data": {
      "text/plain": [
       "<QuerySet [{'first_name': 'Ritesh', 'last_name': 'Kim'}, {'first_name': 'Radha', 'last_name': 'Do'}, {'first_name': 'Raghu', 'last_name': 'Ga'}, {'first_name': 'rishab', 'last_name': 'bill'}, {'first_name': 'Ricky', 'last_name': 'Ari'}]>"
      ]
     },
     "execution_count": 9,
     "metadata": {},
     "output_type": "execute_result"
    }
   ],
   "source": [
    "queryset = User.objects.filter(\n",
    "    first_name__startswith='R'\n",
    ").values(\n",
    "    'first_name', \n",
    "    'last_name'\n",
    ")\n",
    "queryset"
   ]
  },
  {
   "cell_type": "code",
   "execution_count": 10,
   "id": "a4825a46",
   "metadata": {},
   "outputs": [
    {
     "data": {
      "text/plain": [
       "'SELECT \"auth_user\".\"first_name\", \"auth_user\".\"last_name\" FROM \"auth_user\" WHERE \"auth_user\".\"first_name\" LIKE R% ESCAPE \\'\\\\\\''"
      ]
     },
     "execution_count": 10,
     "metadata": {},
     "output_type": "execute_result"
    }
   ],
   "source": [
    "str(queryset.query)"
   ]
  },
  {
   "cell_type": "code",
   "execution_count": 11,
   "id": "958c8f1b",
   "metadata": {},
   "outputs": [
    {
     "data": {
      "text/plain": [
       "<QuerySet [<User: Ritesh>, <User: Radha>, <User: Raghu>, <User: rishab>, <User: Ricky>]>"
      ]
     },
     "execution_count": 11,
     "metadata": {},
     "output_type": "execute_result"
    }
   ],
   "source": [
    "queryset = User.objects.filter(\n",
    "    first_name__startswith='R'\n",
    ").only('first_name', 'last_name')\n",
    "queryset"
   ]
  },
  {
   "cell_type": "code",
   "execution_count": 12,
   "id": "9ed01f32",
   "metadata": {},
   "outputs": [
    {
     "name": "stdout",
     "output_type": "stream",
     "text": [
      "SELECT \"auth_user\".\"id\", \"auth_user\".\"first_name\", \"auth_user\".\"last_name\" FROM \"auth_user\" WHERE \"auth_user\".\"first_name\" LIKE R% ESCAPE '\\'\n"
     ]
    }
   ],
   "source": [
    "print(str(queryset.query))"
   ]
  },
  {
   "cell_type": "markdown",
   "id": "d38543ca",
   "metadata": {},
   "source": [
    ":bangbang: `only`메서드가 `values`메서드는 `id`필드를 가져오냐 안 가져오냐 차이이다."
   ]
  }
 ],
 "metadata": {
  "kernelspec": {
   "display_name": "Django Shell-Plus",
   "language": "python",
   "name": "django_extensions"
  },
  "language_info": {
   "codemirror_mode": {
    "name": "ipython",
    "version": 3
   },
   "file_extension": ".py",
   "mimetype": "text/x-python",
   "name": "python",
   "nbconvert_exporter": "python",
   "pygments_lexer": "ipython3",
   "version": "3.8.13"
  }
 },
 "nbformat": 4,
 "nbformat_minor": 5
}
