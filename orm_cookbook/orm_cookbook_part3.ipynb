{
 "cells": [
  {
   "cell_type": "code",
   "execution_count": 1,
   "id": "ca1ec44c",
   "metadata": {},
   "outputs": [],
   "source": [
    "import os\n",
    "import django\n",
    "os.environ.setdefault('DJANGO_SETTINGS_MODULE', 'rest.settings')\n",
    "os.environ[\"DJANGO_ALLOW_ASYNC_UNSAFE\"] = \"true\"\n",
    "django.setup()\n",
    "from django.contrib.auth import get_user_model\n",
    "from django.db.models import Q\n",
    "from events.models import *\n",
    "from entities.models import *\n",
    "User = get_user_model()"
   ]
  },
  {
   "cell_type": "markdown",
   "id": "edacb48f",
   "metadata": {},
   "source": [
    "## 7. 서브쿼리"
   ]
  },
  {
   "cell_type": "code",
   "execution_count": 2,
   "id": "a68eb4f0",
   "metadata": {},
   "outputs": [],
   "source": [
    "from django.db.models import Subquery"
   ]
  },
  {
   "cell_type": "markdown",
   "id": "2ac99909",
   "metadata": {},
   "source": [
    "- User와 1대1로 연결된 UserParent 모델에서, UserParent이면서 User인 object를 조회하는 쿼리"
   ]
  },
  {
   "cell_type": "code",
   "execution_count": 3,
   "id": "e30dd587",
   "metadata": {},
   "outputs": [
    {
     "name": "stdout",
     "output_type": "stream",
     "text": [
      "SELECT \"events_userparent\".\"user_id\", \"events_userparent\".\"father_name\", \"events_userparent\".\"mother_name\" FROM \"events_userparent\" WHERE \"events_userparent\".\"user_id\" IN (SELECT U0.\"id\" FROM \"auth_user\" U0)\n"
     ]
    }
   ],
   "source": [
    "users = User.objects.all()\n",
    "queryset = UserParent.objects.filter(\n",
    "    user_id__in=Subquery(\n",
    "        users.values('id')\n",
    "    )\n",
    ")\n",
    "\n",
    "SQL_query = str(queryset.query)\n",
    "print(SQL_query)"
   ]
  },
  {
   "cell_type": "code",
   "execution_count": 4,
   "id": "3180807d",
   "metadata": {},
   "outputs": [],
   "source": [
    "from django.db.models import OuterRef"
   ]
  },
  {
   "cell_type": "markdown",
   "id": "ae578ab0",
   "metadata": {},
   "source": [
    "- `OuterRef`를 이용하면 서브쿼리가 외부 쿼리의 정보를 참조할 수 있다.\n",
    "- https://docs.djangoproject.com/en/4.0/ref/models/expressions/#referencing-columns-from-the-outer-queryset\n",
    "- 가장 착한 Hero와 연결된 Category를 구하는 쿼리는 아래와 같다."
   ]
  },
  {
   "cell_type": "code",
   "execution_count": 5,
   "id": "f2c0a1ad",
   "metadata": {},
   "outputs": [
    {
     "name": "stdout",
     "output_type": "stream",
     "text": [
      "SELECT \"entities_category\".\"id\", \"entities_category\".\"name\", (SELECT U0.\"name\" FROM \"entities_hero\" U0 WHERE U0.\"category_id\" = \"entities_category\".\"id\" ORDER BY U0.\"benevolence_factor\" DESC LIMIT 1) AS \"most_benevolent_hero\" FROM \"entities_category\"\n"
     ]
    }
   ],
   "source": [
    "hero_qs = Hero.objects.filter(\n",
    "    category=OuterRef(\"pk\")\n",
    ").order_by(\"-benevolence_factor\")\n",
    "\n",
    "category_qs = Category.objects.all().annotate(\n",
    "    most_benevolent_hero = Subquery(\n",
    "        hero_qs.values('name')[:1]\n",
    "    )\n",
    ")\n",
    "\n",
    "SQL_query = str(category_qs.query)\n",
    "print(SQL_query)"
   ]
  },
  {
   "cell_type": "markdown",
   "id": "c0fb11a2",
   "metadata": {},
   "source": [
    "## 8. F expression: 필드의 값을 서로 비교\n",
    "- 우선 테스트할 오브젝트를 생성하자"
   ]
  },
  {
   "cell_type": "markdown",
   "id": "e1480aab",
   "metadata": {},
   "source": [
    "```python\n",
    "User.objects.create_user(\n",
    "    email=\"shabda@example.com\", \n",
    "    username=\"shabda\", \n",
    "    first_name=\"Shabda\", \n",
    "    last_name=\"Raaj\"\n",
    ")\n",
    "User.objects.create_user(\n",
    "    email=\"guido@example.com\", \n",
    "    username=\"Guido\", \n",
    "    first_name=\"Guido\", \n",
    "    last_name=\"Guido\"\n",
    ")\n",
    "```"
   ]
  },
  {
   "cell_type": "markdown",
   "id": "d2db83c7",
   "metadata": {},
   "source": [
    "- `F` expression은 필드와 필드를 추가적인 쿼리 수행 없이 비교할 수 있도록 한다."
   ]
  },
  {
   "cell_type": "code",
   "execution_count": 6,
   "id": "5ac3fce3",
   "metadata": {},
   "outputs": [
    {
     "data": {
      "text/plain": [
       "<QuerySet [{'username': 'admin'}, {'username': 'Guido'}]>"
      ]
     },
     "execution_count": 6,
     "metadata": {},
     "output_type": "execute_result"
    }
   ],
   "source": [
    "queryset = User.objects.filter(\n",
    "    last_name=F('first_name')\n",
    ").values('username')\n",
    "queryset"
   ]
  },
  {
   "cell_type": "code",
   "execution_count": 7,
   "id": "560a0ca5",
   "metadata": {},
   "outputs": [
    {
     "name": "stdout",
     "output_type": "stream",
     "text": [
      "SELECT \"auth_user\".\"username\" FROM \"auth_user\" WHERE \"auth_user\".\"last_name\" = \"auth_user\".\"first_name\"\n"
     ]
    }
   ],
   "source": [
    "SQL_query = str(queryset.query)\n",
    "print(SQL_query)"
   ]
  },
  {
   "cell_type": "markdown",
   "id": "63238c2f",
   "metadata": {},
   "source": [
    "```python\n",
    "User.objects.create_user(\n",
    "    email='tim@example.com',\n",
    "    username='Tim',\n",
    "    first_name='Tim',\n",
    "    last_name='Tam'\n",
    ")\n",
    "```"
   ]
  },
  {
   "cell_type": "markdown",
   "id": "a6c9e514",
   "metadata": {},
   "source": [
    "- annotate한 필드에 대해서도 `F` expression을 사용할 수 있다.\n",
    "- `Substr`은 DB에서 str을 slicing한 후 검색할 수 있도록 하는 메소드이다.\n",
    "- https://docs.djangoproject.com/en/4.0/ref/models/database-functions/#substr"
   ]
  },
  {
   "cell_type": "code",
   "execution_count": 8,
   "id": "07e7746d",
   "metadata": {},
   "outputs": [
    {
     "data": {
      "text/plain": [
       "<QuerySet [{'first_name': '', 'last_name': ''}, {'first_name': 'sharukh', 'last_name': 'shohei'}, {'first_name': 'Guido', 'last_name': 'Guido'}, {'first_name': 'Tim', 'last_name': 'Tam'}]>"
      ]
     },
     "execution_count": 8,
     "metadata": {},
     "output_type": "execute_result"
    }
   ],
   "source": [
    "from django.db.models.functions import Substr\n",
    "\n",
    "queryset = User.objects.annotate(\n",
    "    first=Substr('first_name', 1, 1),\n",
    "    last=Substr('last_name', 1, 1),\n",
    ").filter(\n",
    "    first=F('last')\n",
    ").values('first_name', 'last_name')\n",
    "queryset"
   ]
  },
  {
   "cell_type": "code",
   "execution_count": 9,
   "id": "abfb876f",
   "metadata": {},
   "outputs": [
    {
     "name": "stdout",
     "output_type": "stream",
     "text": [
      "SELECT \"auth_user\".\"first_name\", \"auth_user\".\"last_name\" FROM \"auth_user\" WHERE SUBSTR(\"auth_user\".\"first_name\", 1, 1) = SUBSTR(\"auth_user\".\"last_name\", 1, 1)\n"
     ]
    }
   ],
   "source": [
    "SQL_query = str(queryset.query)\n",
    "print(SQL_query)"
   ]
  },
  {
   "cell_type": "markdown",
   "id": "71bfa3a4",
   "metadata": {},
   "source": [
    "## 9. FileField에 파일이 들어있지 않은 데이터?\n",
    "- FileField는 응용수준에서의 구별이고 데이터베이스 수준에서는 모두 CharField와 동일한 방식으로 저장된다.\n",
    "- 파일이 없는 데이터를 구하려면 다음과 같이 구하면 된다."
   ]
  },
  {
   "cell_type": "markdown",
   "id": "c0134f37",
   "metadata": {},
   "source": [
    "```python\n",
    "no_files_objects = MyModel.objects.filter(\n",
    "    Q(file='') |\n",
    "    Q(file=None)\n",
    ")\n",
    "```"
   ]
  }
 ],
 "metadata": {
  "kernelspec": {
   "display_name": "Django Shell-Plus",
   "language": "python",
   "name": "django_extensions"
  },
  "language_info": {
   "codemirror_mode": {
    "name": "ipython",
    "version": 3
   },
   "file_extension": ".py",
   "mimetype": "text/x-python",
   "name": "python",
   "nbconvert_exporter": "python",
   "pygments_lexer": "ipython3",
   "version": "3.8.13"
  }
 },
 "nbformat": 4,
 "nbformat_minor": 5
}
