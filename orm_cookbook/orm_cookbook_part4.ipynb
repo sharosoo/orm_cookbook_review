{
 "cells": [
  {
   "cell_type": "code",
   "execution_count": 1,
   "id": "de779211",
   "metadata": {},
   "outputs": [],
   "source": [
    "import os\n",
    "import django\n",
    "os.environ.setdefault('DJANGO_SETTINGS_MODULE', 'rest.settings')\n",
    "os.environ[\"DJANGO_ALLOW_ASYNC_UNSAFE\"] = \"true\"\n",
    "django.setup()\n",
    "from django.contrib.auth import get_user_model\n",
    "from django.db.models import Q\n",
    "from events.models import *\n",
    "from entities.models import *\n",
    "User = get_user_model()"
   ]
  },
  {
   "cell_type": "markdown",
   "id": "5552d88c",
   "metadata": {},
   "source": [
    "## 10. JOIN\n",
    "- 동일한 값을 가진 column을 기준으로 두 표를 결합할 수 있다.\n",
    "- `select_related`는 정방향 참조 모델에 대해서 Join한다."
   ]
  },
  {
   "cell_type": "code",
   "execution_count": 2,
   "id": "1c2f796d",
   "metadata": {},
   "outputs": [
    {
     "name": "stdout",
     "output_type": "stream",
     "text": [
      "SELECT \"events_article\".\"headline\", \"auth_user\".\"username\" FROM \"events_article\" INNER JOIN \"auth_user\" ON (\"events_article\".\"reporter_id\" = \"auth_user\".\"id\") ORDER BY \"events_article\".\"headline\" ASC\n"
     ]
    }
   ],
   "source": [
    "queryset = Article.objects.select_related('reporter').values(\n",
    "    'headline',\n",
    "    'reporter__username'\n",
    ")\n",
    "\n",
    "SQL_query = str(queryset.query)\n",
    "print(SQL_query)"
   ]
  },
  {
   "cell_type": "markdown",
   "id": "cc62d0b4",
   "metadata": {},
   "source": [
    "- ORM은 똑똑해서 `select_related`를 포함하지 않더라도 필요에 따라 알아서 JOIN해주는 경우가 있다.\n",
    "    - 정방향 참조 모델의 필드를 filter하거나 필드로 포함시켜야 하는 경우가 그렇다.\n",
    "- 위의 쿼리에서 `select_related`를 명시하지 않더라도 똑같이 작동한다."
   ]
  },
  {
   "cell_type": "code",
   "execution_count": 11,
   "id": "53478b91",
   "metadata": {},
   "outputs": [
    {
     "name": "stdout",
     "output_type": "stream",
     "text": [
      "SELECT \"events_article\".\"headline\", \"auth_user\".\"username\" FROM \"events_article\" INNER JOIN \"auth_user\" ON (\"events_article\".\"reporter_id\" = \"auth_user\".\"id\")\n"
     ]
    }
   ],
   "source": [
    "queryset = Article.objects.values(\n",
    "    'headline',\n",
    "    'reporter__username'\n",
    ").order_by()\n",
    "\n",
    "SQL_query = str(queryset.query)\n",
    "print(SQL_query)"
   ]
  },
  {
   "cell_type": "markdown",
   "id": "20a2654e",
   "metadata": {},
   "source": [
    "- 그런데 `ORDER BY`를 언급하지 않았는데 쿼리에 들어가는 건 참 이상하다.\n",
    "    - 순서가 상관 없는 경우라도 평소에 명시적으로 `order by`를 포함시켜주는 것이 좋을 것 같다."
   ]
  },
  {
   "cell_type": "markdown",
   "id": "14756391",
   "metadata": {},
   "source": [
    "## 11. N번째로 큰 항목?\n",
    "- django ORM에서 첫번째 항목은 `first()`, 마지막 항목은 `last()`메서드로 구할 수 있다.\n",
    "- 그러나 N번째 항목을 구하는 메서드는 따로 제공되지 않기 때문에, 파이썬의 인덱싱 연산을 이용해야 한다."
   ]
  },
  {
   "cell_type": "code",
   "execution_count": 4,
   "id": "ef07ffbd",
   "metadata": {},
   "outputs": [
    {
     "data": {
      "text/plain": [
       "'Ritesh'"
      ]
     },
     "execution_count": 4,
     "metadata": {},
     "output_type": "execute_result"
    }
   ],
   "source": [
    "# 2번째 항목\n",
    "user = User.objects.order_by('-last_login')[1]\n",
    "user.first_name"
   ]
  },
  {
   "cell_type": "markdown",
   "id": "39716dcf",
   "metadata": {},
   "source": [
    "```python\n",
    "# n번째 항목\n",
    "user = User.objects.order_by('-last_login')[n-1]\n",
    "```"
   ]
  },
  {
   "cell_type": "markdown",
   "id": "9f13b820",
   "metadata": {},
   "source": [
    "- 내부적으로 n번째 항목까지 LIMIT와 OFFSET을 걸어 필요한 항목만 가져온다.\n",
    "- 다음의 구조와 같다."
   ]
  },
  {
   "cell_type": "code",
   "execution_count": 5,
   "id": "26639d90",
   "metadata": {},
   "outputs": [
    {
     "name": "stdout",
     "output_type": "stream",
     "text": [
      "SELECT \"auth_user\".\"username\" FROM \"auth_user\" ORDER BY \"auth_user\".\"last_login\" DESC LIMIT 1 OFFSET 9\n"
     ]
    }
   ],
   "source": [
    "n = 10\n",
    "offset = n-1\n",
    "queryset = User.objects.values('username').order_by('-last_login')[offset:n]\n",
    "print(str(queryset.query))"
   ]
  },
  {
   "cell_type": "markdown",
   "id": "5e83696f",
   "metadata": {},
   "source": [
    "## 12. Count - column값이 중복인 데이터 찾기\n",
    "- 특정 column이 중복인 data를 구하는 방법에는 여러가지가 있다.\n",
    "- Count를 이용해 2번 이상 나타나는 value를 구하고 column이 value인 데이터를 query할 수 있다."
   ]
  },
  {
   "cell_type": "code",
   "execution_count": 6,
   "id": "42779f3d",
   "metadata": {},
   "outputs": [],
   "source": [
    "from django.db.models import Count"
   ]
  },
  {
   "cell_type": "code",
   "execution_count": 7,
   "id": "86a0fce3",
   "metadata": {},
   "outputs": [
    {
     "name": "stdout",
     "output_type": "stream",
     "text": [
      "SELECT \"auth_user\".\"first_name\", COUNT(\"auth_user\".\"first_name\") AS \"name_count\" FROM \"auth_user\" GROUP BY \"auth_user\".\"first_name\" HAVING COUNT(\"auth_user\".\"first_name\") > 1\n"
     ]
    }
   ],
   "source": [
    "# 중복인 column값들 구하기\n",
    "duplicates = User.objects.values(\n",
    "    'first_name'\n",
    ").annotate(\n",
    "    name_count=Count('first_name')\n",
    ").filter(\n",
    "    name_count__gt=1\n",
    ")\n",
    "\n",
    "print(str(duplicates.query))"
   ]
  },
  {
   "cell_type": "code",
   "execution_count": 8,
   "id": "d53b2626",
   "metadata": {},
   "outputs": [],
   "source": [
    "# 중복인 column값을 가지는 data 구하기\n",
    "records = User.objects.filter(\n",
    "    first_name__in=[item['first_name'] for item in duplicates]\n",
    ")"
   ]
  },
  {
   "cell_type": "markdown",
   "id": "5f202f66",
   "metadata": {},
   "source": [
    "## 13. Count - 고유한 필드 값을 가진 데이터 찾기\n",
    "- 위의 예제와 비슷하다"
   ]
  },
  {
   "cell_type": "code",
   "execution_count": 9,
   "id": "6053e8fb",
   "metadata": {},
   "outputs": [
    {
     "name": "stdout",
     "output_type": "stream",
     "text": [
      "SELECT \"auth_user\".\"first_name\", COUNT(\"auth_user\".\"first_name\") AS \"name_count\" FROM \"auth_user\" GROUP BY \"auth_user\".\"first_name\" HAVING COUNT(\"auth_user\".\"first_name\") = 1\n"
     ]
    }
   ],
   "source": [
    "# 고유한 필드값을 가지는 경우\n",
    "uniques = User.objects.values(\n",
    "    'first_name'\n",
    ").annotate(\n",
    "    name_count=Count('first_name')\n",
    ").filter(\n",
    "    name_count=1\n",
    ")\n",
    "\n",
    "print(str(uniques.query))"
   ]
  },
  {
   "cell_type": "code",
   "execution_count": 10,
   "id": "c85d69e3",
   "metadata": {},
   "outputs": [],
   "source": [
    "# 고유한 필드값을 가지는 data 구하기\n",
    "records = User.objects.filter(\n",
    "    first_name__in=[item['first_name'] for item in uniques]\n",
    ")"
   ]
  }
 ],
 "metadata": {
  "kernelspec": {
   "display_name": "Django Shell-Plus",
   "language": "python",
   "name": "django_extensions"
  },
  "language_info": {
   "codemirror_mode": {
    "name": "ipython",
    "version": 3
   },
   "file_extension": ".py",
   "mimetype": "text/x-python",
   "name": "python",
   "nbconvert_exporter": "python",
   "pygments_lexer": "ipython3",
   "version": "3.8.13"
  }
 },
 "nbformat": 4,
 "nbformat_minor": 5
}
