{
 "cells": [
  {
   "cell_type": "markdown",
   "id": "ef1070a8",
   "metadata": {},
   "source": [
    "# django ORM cookbook part1"
   ]
  },
  {
   "cell_type": "code",
   "execution_count": 1,
   "id": "1cc5b40c",
   "metadata": {},
   "outputs": [],
   "source": [
    "from django.contrib.auth import get_user_model\n",
    "from django.db.models import Q\n",
    "from events.models import *\n",
    "from entities.models import *"
   ]
  },
  {
   "cell_type": "markdown",
   "id": "427f254d",
   "metadata": {},
   "source": [
    "## 1. ORM이 실행하는 실제 SQL query 확인"
   ]
  },
  {
   "cell_type": "markdown",
   "id": "7f8b8800",
   "metadata": {},
   "source": [
    "- django ORM이 실행하는 질의문 또는 작성한 코드에 대응하는 SQL query가 무엇인지 확인하고 싶을 때가 있다.\n",
    "- SQL 질의문은 queryset.query의 str을 확인하면 된다."
   ]
  },
  {
   "cell_type": "code",
   "execution_count": 2,
   "id": "418449ca",
   "metadata": {},
   "outputs": [
    {
     "name": "stdout",
     "output_type": "stream",
     "text": [
      "SELECT \"events_event\".\"id\", \"events_event\".\"epic_id\", \"events_event\".\"details\", \"events_event\".\"years_ago\" FROM \"events_event\"\n"
     ]
    }
   ],
   "source": [
    "queryset = Event.objects.all()\n",
    "SQL_query = str(queryset.query)\n",
    "print(SQL_query)"
   ]
  },
  {
   "cell_type": "code",
   "execution_count": 3,
   "id": "1ec87566",
   "metadata": {},
   "outputs": [
    {
     "name": "stdout",
     "output_type": "stream",
     "text": [
      "SELECT \"events_event\".\"id\", \"events_event\".\"epic_id\", \"events_event\".\"details\", \"events_event\".\"years_ago\" FROM \"events_event\" WHERE \"events_event\".\"years_ago\" > 5\n"
     ]
    }
   ],
   "source": [
    "queryset = Event.objects.filter(years_ago__gt=5)\n",
    "SQL_query = str(queryset.query)\n",
    "print(SQL_query)"
   ]
  },
  {
   "cell_type": "markdown",
   "id": "ed1a9f5f",
   "metadata": {},
   "source": [
    "## 2. OR연산 이용하기"
   ]
  },
  {
   "cell_type": "markdown",
   "id": "a1608b12",
   "metadata": {},
   "source": [
    "- 여러 조건 중 하나만 만족해도 되는 data를 들고와야 하는 경우가 있다.\n",
    "- SQL query로는 WHERE와 OR을 함께 이용하거나 WHERE와 UNION을 이용하여 구할 수 있다."
   ]
  },
  {
   "cell_type": "code",
   "execution_count": 4,
   "id": "4216f76b",
   "metadata": {},
   "outputs": [
    {
     "name": "stdout",
     "output_type": "stream",
     "text": [
      "SELECT \"auth_user\".\"id\", \"auth_user\".\"password\", \"auth_user\".\"last_login\", \"auth_user\".\"is_superuser\", \"auth_user\".\"username\", \"auth_user\".\"first_name\", \"auth_user\".\"last_name\", \"auth_user\".\"email\", \"auth_user\".\"is_staff\", \"auth_user\".\"is_active\", \"auth_user\".\"date_joined\" FROM \"auth_user\" WHERE (\"auth_user\".\"first_name\" LIKE R% ESCAPE '\\' OR \"auth_user\".\"last_name\" LIKE D% ESCAPE '\\')\n"
     ]
    }
   ],
   "source": [
    "User = get_user_model()\n",
    "\n",
    "queryset = User.objects.filter(\n",
    "    first_name__startswith='R'\n",
    ") | User.objects.filter(\n",
    "    last_name__startswith='D'\n",
    ")\n",
    "\n",
    "SQL_query = str(queryset.query)\n",
    "print(SQL_query)"
   ]
  },
  {
   "cell_type": "markdown",
   "id": "e67ccf0e",
   "metadata": {},
   "source": [
    "- Q객체를 이용하는 방법\n",
    "    - 이전의 ORM과 동일한 query를 가진다."
   ]
  },
  {
   "cell_type": "code",
   "execution_count": 5,
   "id": "e94aa908",
   "metadata": {},
   "outputs": [
    {
     "name": "stdout",
     "output_type": "stream",
     "text": [
      "SELECT \"auth_user\".\"id\", \"auth_user\".\"password\", \"auth_user\".\"last_login\", \"auth_user\".\"is_superuser\", \"auth_user\".\"username\", \"auth_user\".\"first_name\", \"auth_user\".\"last_name\", \"auth_user\".\"email\", \"auth_user\".\"is_staff\", \"auth_user\".\"is_active\", \"auth_user\".\"date_joined\" FROM \"auth_user\" WHERE (\"auth_user\".\"first_name\" LIKE R% ESCAPE '\\' OR \"auth_user\".\"last_name\" LIKE D% ESCAPE '\\')\n"
     ]
    }
   ],
   "source": [
    "queryset = User.objects.filter(\n",
    "    Q(first_name__startswith='R') |\n",
    "    Q(last_name__startswith='D')\n",
    ")\n",
    "\n",
    "SQL_query = str(queryset.query)\n",
    "print(SQL_query)"
   ]
  },
  {
   "cell_type": "markdown",
   "id": "2621bc1b",
   "metadata": {},
   "source": [
    "- Union을 이용하는 방법\n",
    "    - 데이터셋이 큰 경우 OR연산보다 Union을 이용하는 경우가 더 빠르다"
   ]
  },
  {
   "cell_type": "code",
   "execution_count": 6,
   "id": "c201279e",
   "metadata": {},
   "outputs": [
    {
     "name": "stdout",
     "output_type": "stream",
     "text": [
      "SELECT \"auth_user\".\"id\", \"auth_user\".\"password\", \"auth_user\".\"last_login\", \"auth_user\".\"is_superuser\", \"auth_user\".\"username\", \"auth_user\".\"first_name\", \"auth_user\".\"last_name\", \"auth_user\".\"email\", \"auth_user\".\"is_staff\", \"auth_user\".\"is_active\", \"auth_user\".\"date_joined\" FROM \"auth_user\" WHERE \"auth_user\".\"first_name\" LIKE R% ESCAPE '\\' UNION SELECT \"auth_user\".\"id\", \"auth_user\".\"password\", \"auth_user\".\"last_login\", \"auth_user\".\"is_superuser\", \"auth_user\".\"username\", \"auth_user\".\"first_name\", \"auth_user\".\"last_name\", \"auth_user\".\"email\", \"auth_user\".\"is_staff\", \"auth_user\".\"is_active\", \"auth_user\".\"date_joined\" FROM \"auth_user\" WHERE \"auth_user\".\"last_name\" LIKE D% ESCAPE '\\'\n"
     ]
    }
   ],
   "source": [
    "queryset_1 = User.objects.filter(first_name__startswith='R')\n",
    "queryset_2 = User.objects.filter(last_name__startswith='D')\n",
    "\n",
    "queryset = queryset_1.union(queryset_2)\n",
    "\n",
    "SQL_query = str(queryset.query)\n",
    "print(SQL_query)"
   ]
  },
  {
   "cell_type": "markdown",
   "id": "cf4bb77c",
   "metadata": {},
   "source": [
    "3. AND연산 이용하기\n",
    "- 여러 조건을 모두 만족하는 데이터를 가져와야 할 때 AND 연산을 이용한다.\n",
    "- SQL query로는 WHERE과 AND를 함께 사용하는 경우이다."
   ]
  },
  {
   "cell_type": "code",
   "execution_count": 7,
   "id": "b67f4461",
   "metadata": {},
   "outputs": [
    {
     "name": "stdout",
     "output_type": "stream",
     "text": [
      "SELECT \"auth_user\".\"id\", \"auth_user\".\"password\", \"auth_user\".\"last_login\", \"auth_user\".\"is_superuser\", \"auth_user\".\"username\", \"auth_user\".\"first_name\", \"auth_user\".\"last_name\", \"auth_user\".\"email\", \"auth_user\".\"is_staff\", \"auth_user\".\"is_active\", \"auth_user\".\"date_joined\" FROM \"auth_user\" WHERE (\"auth_user\".\"first_name\" LIKE R% ESCAPE '\\' AND \"auth_user\".\"last_name\" LIKE D% ESCAPE '\\')\n"
     ]
    }
   ],
   "source": [
    "queryset = User.objects.filter(\n",
    "    first_name__startswith='R',\n",
    "    last_name__startswith='D'\n",
    ")\n",
    "\n",
    "SQL_query = str(queryset.query)\n",
    "print(SQL_query)"
   ]
  },
  {
   "cell_type": "code",
   "execution_count": 8,
   "id": "28061016",
   "metadata": {},
   "outputs": [
    {
     "name": "stdout",
     "output_type": "stream",
     "text": [
      "SELECT \"auth_user\".\"id\", \"auth_user\".\"password\", \"auth_user\".\"last_login\", \"auth_user\".\"is_superuser\", \"auth_user\".\"username\", \"auth_user\".\"first_name\", \"auth_user\".\"last_name\", \"auth_user\".\"email\", \"auth_user\".\"is_staff\", \"auth_user\".\"is_active\", \"auth_user\".\"date_joined\" FROM \"auth_user\" WHERE (\"auth_user\".\"first_name\" LIKE R% ESCAPE '\\' AND \"auth_user\".\"last_name\" LIKE D% ESCAPE '\\')\n"
     ]
    }
   ],
   "source": [
    "queryset = User.objects.filter(\n",
    "    Q(first_name__startswith='R') &\n",
    "    Q(last_name__startswith='D')\n",
    ")\n",
    "\n",
    "SQL_query = str(queryset.query)\n",
    "print(SQL_query)"
   ]
  },
  {
   "cell_type": "markdown",
   "id": "d960dc02",
   "metadata": {},
   "source": [
    "4. NOT 연산으로 조건 부정하기\n",
    "- 특정 조건을 만족하지 않는 데이터를 가져와야 할 때 NOT을 이용한다.\n",
    "- `exclude`나 `~Q()`를 이용한다.\n",
    "- 역방향 참조모델에 대한 NOT 연산은 django ORM상 sub query가 발생하므로 유의해서 사용하자.(https://www.youtube.com/watch?v=EZgLfDrUlrk)"
   ]
  },
  {
   "cell_type": "code",
   "execution_count": 9,
   "id": "839c70c8",
   "metadata": {},
   "outputs": [
    {
     "name": "stdout",
     "output_type": "stream",
     "text": [
      "SELECT \"auth_user\".\"id\", \"auth_user\".\"password\", \"auth_user\".\"last_login\", \"auth_user\".\"is_superuser\", \"auth_user\".\"username\", \"auth_user\".\"first_name\", \"auth_user\".\"last_name\", \"auth_user\".\"email\", \"auth_user\".\"is_staff\", \"auth_user\".\"is_active\", \"auth_user\".\"date_joined\" FROM \"auth_user\" WHERE NOT (\"auth_user\".\"id\" < 5)\n"
     ]
    }
   ],
   "source": [
    "queryset = User.objects.exclude(id__lt=5)\n",
    "\n",
    "SQL_query = str(queryset.query)\n",
    "print(SQL_query)"
   ]
  },
  {
   "cell_type": "code",
   "execution_count": 10,
   "id": "be963a59",
   "metadata": {},
   "outputs": [
    {
     "name": "stdout",
     "output_type": "stream",
     "text": [
      "SELECT \"auth_user\".\"id\", \"auth_user\".\"password\", \"auth_user\".\"last_login\", \"auth_user\".\"is_superuser\", \"auth_user\".\"username\", \"auth_user\".\"first_name\", \"auth_user\".\"last_name\", \"auth_user\".\"email\", \"auth_user\".\"is_staff\", \"auth_user\".\"is_active\", \"auth_user\".\"date_joined\" FROM \"auth_user\" WHERE NOT (\"auth_user\".\"id\" < 5)\n"
     ]
    }
   ],
   "source": [
    "queryset = User.objects.filter(\n",
    "    ~Q(id__lt=5)\n",
    ")\n",
    "\n",
    "SQL_query = str(queryset.query)\n",
    "print(SQL_query)"
   ]
  },
  {
   "cell_type": "markdown",
   "id": "22b80c61",
   "metadata": {},
   "source": [
    "**참고**\n",
    "https://stackoverflow.com/questions/15361972/why-is-union-faster-than-an-or-statement\n",
    "https://www.youtube.com/watch?v=EZgLfDrUlrk\n",
    "https://django-orm-cookbook-ko.readthedocs.io/en/latest/notequal_query.html"
   ]
  }
 ],
 "metadata": {
  "kernelspec": {
   "display_name": "Django Shell-Plus",
   "language": "python",
   "name": "django_extensions"
  },
  "language_info": {
   "codemirror_mode": {
    "name": "ipython",
    "version": 3
   },
   "file_extension": ".py",
   "mimetype": "text/x-python",
   "name": "python",
   "nbconvert_exporter": "python",
   "pygments_lexer": "ipython3",
   "version": "3.8.13"
  }
 },
 "nbformat": 4,
 "nbformat_minor": 5
}
